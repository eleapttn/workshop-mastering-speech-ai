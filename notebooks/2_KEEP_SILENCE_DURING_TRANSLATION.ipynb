{
 "cells": [
  {
   "cell_type": "markdown",
   "id": "ffc8a3a7-200e-4599-81f4-e6209a7707e4",
   "metadata": {},
   "source": [
    "# NMT & silence management\n",
    "\n",
    "### *How to take silences into account during translation?*"
   ]
  },
  {
   "cell_type": "markdown",
   "id": "28f0cd56-6924-4ce2-b25b-1b0be6bb8e78",
   "metadata": {},
   "source": [
    "- Get translation from **NMT** model"
   ]
  },
  {
   "cell_type": "code",
   "execution_count": null,
   "id": "2f9e0d62-f1c1-4a63-bf46-44f16db5dca1",
   "metadata": {},
   "outputs": [],
   "source": [
    "import os\n",
    "from dotenv import load_dotenv\n",
    "from pathlib import Path\n",
    "\n",
    "dotenv_path = Path('/workspace/.env')\n",
    "load_dotenv(dotenv_path=dotenv_path)\n",
    "\n",
    "# access the environment variables from the .env file\n",
    "nmt_endpoint_url = os.environ.get('NMT_EN_DE_ENDPOINT')\n",
    "ai_endpoint_token = os.environ.get('OVH_AI_ENDPOINTS_ACCESS_TOKEN')"
   ]
  },
  {
   "cell_type": "code",
   "execution_count": null,
   "id": "de777650-56d0-49c4-ac66-2122820b942c",
   "metadata": {},
   "outputs": [],
   "source": [
    "import riva.client\n",
    "\n",
    "# NMT function\n",
    "def nmt_translation(output_asr, source_lang, target_lang):\n",
    "    \n",
    "    # connect with riva nmt server\n",
    "    nmt_service = riva.client.NeuralMachineTranslationClient(\n",
    "                    riva.client.Auth(\n",
    "                        uri=nmt_endpoint_url,\n",
    "                        use_ssl=True, \n",
    "                        metadata_args=[[\"authorization\", f\"bearer {ai_endpoint_token}\"]]\n",
    "                    )\n",
    "                )\n",
    "\n",
    "    # set up config\n",
    "    model_name = 'en_de_24x6' if source_lang==\"en-US\" else 'de_en_24x6'\n",
    "    \n",
    "    output_nmt = []\n",
    "    for s in range(len(output_asr)):\n",
    "        output_nmt.append(output_asr[s])\n",
    "        text_translation = nmt_service.translate([output_asr[s][0]], model_name, source_lang[:-3], target_lang[:-3])\n",
    "        output_nmt[s][0]=text_translation.translations[0].text\n",
    "        \n",
    "    # return response\n",
    "    return output_nmt"
   ]
  },
  {
   "cell_type": "markdown",
   "id": "c1e53834-fa41-4874-9e79-1e804603ab4b",
   "metadata": {},
   "source": [
    "- Transcription output from **RIVA ASR** model"
   ]
  },
  {
   "cell_type": "code",
   "execution_count": null,
   "id": "ac449385-c077-4eb9-92b8-f6f28a15ca38",
   "metadata": {},
   "outputs": [],
   "source": [
    "# audio transcription\n",
    "output_asr = [\n",
    "    [\"Is your domain name currently with another registrar and you'd like to transfer it to Ovh Cloud? You can do this via a transfer procedure. \", \n",
    "     1080, \n",
    "     8040], \n",
    "    ['Before you begin, check out the list of prerequisites available in the description of this video. ', \n",
    "     12320, \n",
    "     17240], \n",
    "    [\"It done perfect. Let's start. \", \n",
    "     18160, \n",
    "     20200], \n",
    "    [\"1st It's important to ensure that the information associated with the domain name is up to date. \\\n",
    "    If not, please contact the current domain name registrar and correct them. \", \n",
    "     21320, \n",
    "     31080], \n",
    "    ['The 2nd step is to unlock the domain name. This operation is carried out through the current domain name registrar. ', \n",
    "     33280, \n",
    "     39960], \n",
    "    ['If you are not sure how to perform this step, please contact their customer support team for assistance in completing this step. ', \n",
    "     40800, \n",
    "     46680], \n",
    "    ['Once unlocked, you will receive a transfer code. ', \n",
    "     49040, \n",
    "     51600], \n",
    "    ['This code is sometimes referred to as different names, such as Transfer Code, Auth Code, Auth Information or Epp Code. ', \n",
    "     52600, \n",
    "     60240], \n",
    "    ['Now you have this code, you can request for your domain name to be transferred to Ovh Cloud. \\\n",
    "    The process is simple you will need to order it on our website. The system will detect that the domain name exists and offer to transfer it. \\\n",
    "    After the validation steps, you will be asked to provide your transfer code, enter this in the corresponding box. ', \n",
    "     61240, \n",
    "     80520], \n",
    "    ['You will then receive a purchase order. The transfer will not start until payment has been made. ', \n",
    "     81920, \n",
    "     86920], \n",
    "    ['From this point, you will be able to track the transfer progress via the Ovh Cloud control panel. ', \n",
    "     87720, \n",
    "     92760], \n",
    "    ['To do this, you can go to the Web Cloud section. ', \n",
    "     93640, \n",
    "     96080], \n",
    "    ['Click on the domain name in question and then click on the operation in progress. ', \n",
    "     96920, \n",
    "     100800], \n",
    "    ['Once the order has been paid, the domain name registrar will receive a validation request. The transfer then begins. ', \n",
    "     101880, \n",
    "     108800], \n",
    "    ['The operation can take an average of five days. ', \n",
    "     109840, \n",
    "     112240], \n",
    "    ['If a refusal is issued by the registrar, please contact their customer support team to find out why. ', \n",
    "     113080, \n",
    "     118800], \n",
    "    ['You will then need to relaunch the transfer request from the tracking space. ', \n",
    "     119640, \n",
    "     123000], \n",
    "    ['If the procedure goes smoothly, your domain name will now be managed through Ovh Cloud and you can manage it through the Ovh Cloud Control panel. ', \n",
    "     124160, \n",
    "     131200], \n",
    "    ['And of course, if you would like to explore more on the topic covered in this video, please refer to our guides available in the description. ', \n",
    "     132000, \n",
    "     138520]\n",
    "]\n",
    "print(\"Transcription output - RIVA ASR:\\n\\n\", output_asr)"
   ]
  },
  {
   "cell_type": "markdown",
   "id": "fb105a7a-3a49-48e1-93a7-cef3faf0ff7d",
   "metadata": {},
   "source": [
    "- Get results from **RIVA NMT**"
   ]
  },
  {
   "cell_type": "code",
   "execution_count": null,
   "id": "abaf7c3f-ed75-4e48-aed2-a382acfc9f2f",
   "metadata": {},
   "outputs": [],
   "source": [
    "# text translation\n",
    "output_nmt = nmt_translation(output_asr, \"en-US\", \"de_DE\")\n",
    "print(\"Translation output - RIVA NMT:\\n\\n\", output_nmt)"
   ]
  }
 ],
 "metadata": {
  "kernelspec": {
   "display_name": "Conda",
   "language": "python",
   "name": "python3"
  },
  "language_info": {
   "codemirror_mode": {
    "name": "ipython",
    "version": 3
   },
   "file_extension": ".py",
   "mimetype": "text/x-python",
   "name": "python",
   "nbconvert_exporter": "python",
   "pygments_lexer": "ipython3",
   "version": "3.11.4"
  }
 },
 "nbformat": 4,
 "nbformat_minor": 5
}
