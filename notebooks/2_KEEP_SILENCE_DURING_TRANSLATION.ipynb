{
 "cells": [
  {
   "cell_type": "markdown",
   "id": "ffc8a3a7-200e-4599-81f4-e6209a7707e4",
   "metadata": {},
   "source": [
    "# Key Features of Speech AI\n",
    "\n",
    "*Focus on **Video Translator** key functions: generate SRT file, manage silences during translation, surimpose audio on video*\n",
    "\n",
    "## Instruction\n",
    "\n",
    "### 2 - Manage silences during translation\n",
    "\n",
    "- Import dependencies"
   ]
  },
  {
   "cell_type": "code",
   "execution_count": null,
   "id": "2f9e0d62-f1c1-4a63-bf46-44f16db5dca1",
   "metadata": {},
   "outputs": [],
   "source": [
    "import os\n",
    "import requests"
   ]
  },
  {
   "cell_type": "markdown",
   "id": "838bf778-c52a-42d4-b144-bad445202a14",
   "metadata": {},
   "source": [
    "- Get translation from **NMT** model"
   ]
  },
  {
   "cell_type": "code",
   "execution_count": null,
   "id": "de777650-56d0-49c4-ac66-2122820b942c",
   "metadata": {},
   "outputs": [],
   "source": [
    "# Write your code here\n",
    "\n",
    "# To execute code cell, select the cell and then click the ▶️ button in the menu above the notebook. You can also select the cell and execute `SHIFT + ENTER`."
   ]
  },
  {
   "cell_type": "markdown",
   "id": "c1e53834-fa41-4874-9e79-1e804603ab4b",
   "metadata": {},
   "source": [
    "- Transcription output from **ASR** model"
   ]
  },
  {
   "cell_type": "code",
   "execution_count": null,
   "id": "ac449385-c077-4eb9-92b8-f6f28a15ca38",
   "metadata": {},
   "outputs": [],
   "source": [
    "# Write your code here\n",
    "\n",
    "# To execute code cell, select the cell and then click the ▶️ button in the menu above the notebook. You can also select the cell and execute `SHIFT + ENTER`."
   ]
  },
  {
   "cell_type": "markdown",
   "id": "fb105a7a-3a49-48e1-93a7-cef3faf0ff7d",
   "metadata": {},
   "source": [
    "- Get results from **NMT API**"
   ]
  },
  {
   "cell_type": "code",
   "execution_count": null,
   "id": "abaf7c3f-ed75-4e48-aed2-a382acfc9f2f",
   "metadata": {},
   "outputs": [],
   "source": [
    "# Write your code here\n",
    "\n",
    "# To execute code cell, select the cell and then click the ▶️ button in the menu above the notebook. You can also select the cell and execute `SHIFT + ENTER`."
   ]
  }
 ],
 "metadata": {
  "kernelspec": {
   "display_name": "Conda",
   "language": "python",
   "name": "python3"
  },
  "language_info": {
   "codemirror_mode": {
    "name": "ipython",
    "version": 3
   },
   "file_extension": ".py",
   "mimetype": "text/x-python",
   "name": "python",
   "nbconvert_exporter": "python",
   "pygments_lexer": "ipython3",
   "version": "3.9.5"
  }
 },
 "nbformat": 4,
 "nbformat_minor": 5
}
