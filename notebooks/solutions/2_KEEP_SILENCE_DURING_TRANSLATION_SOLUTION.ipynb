{
 "cells": [
  {
   "cell_type": "markdown",
   "id": "ffc8a3a7-200e-4599-81f4-e6209a7707e4",
   "metadata": {},
   "source": [
    "# Key Features of Speech AI\n",
    "\n",
    "*Focus on **Video Translator** key functions: generate SRT file, manage silences during translation, surimpose audio on video*\n",
    "\n",
    "## Instruction\n",
    "\n",
    "### 2 - Manage silences during translation\n",
    "\n",
    "- Import dependencies and load environment variables"
   ]
  },
  {
   "cell_type": "code",
   "execution_count": 1,
   "id": "2f9e0d62-f1c1-4a63-bf46-44f16db5dca1",
   "metadata": {},
   "outputs": [
    {
     "data": {
      "text/plain": [
       "True"
      ]
     },
     "execution_count": 1,
     "metadata": {},
     "output_type": "execute_result"
    }
   ],
   "source": [
    "import os\n",
    "import requests\n",
    "from dotenv import load_dotenv\n",
    "\n",
    "# access the environment variables from the .env file\n",
    "load_dotenv('/workspace/.env')"
   ]
  },
  {
   "cell_type": "markdown",
   "id": "838bf778-c52a-42d4-b144-bad445202a14",
   "metadata": {},
   "source": [
    "- Get translation from **NMT** model"
   ]
  },
  {
   "cell_type": "code",
   "execution_count": 2,
   "id": "de777650-56d0-49c4-ac66-2122820b942c",
   "metadata": {},
   "outputs": [],
   "source": [
    "# NMT function\n",
    "def translate(output_asr):\n",
    "    \n",
    "    output_nmt = []\n",
    "    for sentence in range(len(output_asr)):\n",
    "\n",
    "        # put asr output as nmt input\n",
    "        output_nmt.append(output_asr[sentence])\n",
    "        data = {\n",
    "            \"model\": \"en_de_24x6\",\n",
    "            \"source_language\": \"en\",\n",
    "            \"target_language\": \"de\",\n",
    "            \"texts\": [output_asr[sentence][0]]\n",
    "        }\n",
    "\n",
    "       # get response from endpoint\n",
    "        response = requests.post(\n",
    "            os.environ.get('NMT_EN_DE_ENDPOINT'), \n",
    "            json=data, \n",
    "            headers= {\n",
    "                'accept': 'application/json',\n",
    "                \"Authorization\": f\"Bearer {os.environ.get('OVH_AI_ENDPOINTS_ACCESS_TOKEN')}\",\n",
    "            }\n",
    "        )\n",
    "        if response.status_code == 200:\n",
    "            output_nmt[sentence][0]=response.json()[0]['text']\n",
    "        else:\n",
    "            print(\"Error:\", response.status_code)\n",
    "\n",
    "        \n",
    "    # return response\n",
    "    return output_nmt"
   ]
  },
  {
   "cell_type": "markdown",
   "id": "c1e53834-fa41-4874-9e79-1e804603ab4b",
   "metadata": {},
   "source": [
    "- Transcription output from **ASR** model"
   ]
  },
  {
   "cell_type": "code",
   "execution_count": 3,
   "id": "ac449385-c077-4eb9-92b8-f6f28a15ca38",
   "metadata": {},
   "outputs": [
    {
     "name": "stdout",
     "output_type": "stream",
     "text": [
      "Transcription output - ASR:\n",
      "\n",
      " [[\"Is your domain name currently with another registrar and you'd like to transfer it to Ovh Cloud? You can do this via a transfer procedure. \", 1080, 8040], ['Before you begin, check out the list of prerequisites available in the description of this video. ', 12320, 17240], [\"It done perfect. Let's start. \", 18160, 20200], [\"1st It's important to ensure that the information associated with the domain name is up to date.     If not, please contact the current domain name registrar and correct them. \", 21320, 31080], ['The 2nd step is to unlock the domain name. This operation is carried out through the current domain name registrar. ', 33280, 39960], ['If you are not sure how to perform this step, please contact their customer support team for assistance in completing this step. ', 40800, 46680], ['Once unlocked, you will receive a transfer code. ', 49040, 51600], ['This code is sometimes referred to as different names, such as Transfer Code, Auth Code, Auth Information or Epp Code. ', 52600, 60240], ['Now you have this code, you can request for your domain name to be transferred to Ovh Cloud.     The process is simple you will need to order it on our website. The system will detect that the domain name exists and offer to transfer it.     After the validation steps, you will be asked to provide your transfer code, enter this in the corresponding box. ', 61240, 80520], ['You will then receive a purchase order. The transfer will not start until payment has been made. ', 81920, 86920], ['From this point, you will be able to track the transfer progress via the Ovh Cloud control panel. ', 87720, 92760], ['To do this, you can go to the Web Cloud section. ', 93640, 96080], ['Click on the domain name in question and then click on the operation in progress. ', 96920, 100800], ['Once the order has been paid, the domain name registrar will receive a validation request. The transfer then begins. ', 101880, 108800], ['The operation can take an average of five days. ', 109840, 112240], ['If a refusal is issued by the registrar, please contact their customer support team to find out why. ', 113080, 118800], ['You will then need to relaunch the transfer request from the tracking space. ', 119640, 123000], ['If the procedure goes smoothly, your domain name will now be managed through Ovh Cloud and you can manage it through the Ovh Cloud Control panel. ', 124160, 131200], ['And of course, if you would like to explore more on the topic covered in this video, please refer to our guides available in the description. ', 132000, 138520]]\n"
     ]
    }
   ],
   "source": [
    "# audio transcription\n",
    "output_asr = [\n",
    "    [\"Is your domain name currently with another registrar and you'd like to transfer it to Ovh Cloud? You can do this via a transfer procedure. \", \n",
    "     1080, \n",
    "     8040], \n",
    "    ['Before you begin, check out the list of prerequisites available in the description of this video. ', \n",
    "     12320, \n",
    "     17240], \n",
    "    [\"It done perfect. Let's start. \", \n",
    "     18160, \n",
    "     20200], \n",
    "    [\"1st It's important to ensure that the information associated with the domain name is up to date. \\\n",
    "    If not, please contact the current domain name registrar and correct them. \", \n",
    "     21320, \n",
    "     31080], \n",
    "    ['The 2nd step is to unlock the domain name. This operation is carried out through the current domain name registrar. ', \n",
    "     33280, \n",
    "     39960], \n",
    "    ['If you are not sure how to perform this step, please contact their customer support team for assistance in completing this step. ', \n",
    "     40800, \n",
    "     46680], \n",
    "    ['Once unlocked, you will receive a transfer code. ', \n",
    "     49040, \n",
    "     51600], \n",
    "    ['This code is sometimes referred to as different names, such as Transfer Code, Auth Code, Auth Information or Epp Code. ', \n",
    "     52600, \n",
    "     60240], \n",
    "    ['Now you have this code, you can request for your domain name to be transferred to Ovh Cloud. \\\n",
    "    The process is simple you will need to order it on our website. The system will detect that the domain name exists and offer to transfer it. \\\n",
    "    After the validation steps, you will be asked to provide your transfer code, enter this in the corresponding box. ', \n",
    "     61240, \n",
    "     80520], \n",
    "    ['You will then receive a purchase order. The transfer will not start until payment has been made. ', \n",
    "     81920, \n",
    "     86920], \n",
    "    ['From this point, you will be able to track the transfer progress via the Ovh Cloud control panel. ', \n",
    "     87720, \n",
    "     92760], \n",
    "    ['To do this, you can go to the Web Cloud section. ', \n",
    "     93640, \n",
    "     96080], \n",
    "    ['Click on the domain name in question and then click on the operation in progress. ', \n",
    "     96920, \n",
    "     100800], \n",
    "    ['Once the order has been paid, the domain name registrar will receive a validation request. The transfer then begins. ', \n",
    "     101880, \n",
    "     108800], \n",
    "    ['The operation can take an average of five days. ', \n",
    "     109840, \n",
    "     112240], \n",
    "    ['If a refusal is issued by the registrar, please contact their customer support team to find out why. ', \n",
    "     113080, \n",
    "     118800], \n",
    "    ['You will then need to relaunch the transfer request from the tracking space. ', \n",
    "     119640, \n",
    "     123000], \n",
    "    ['If the procedure goes smoothly, your domain name will now be managed through Ovh Cloud and you can manage it through the Ovh Cloud Control panel. ', \n",
    "     124160, \n",
    "     131200], \n",
    "    ['And of course, if you would like to explore more on the topic covered in this video, please refer to our guides available in the description. ', \n",
    "     132000, \n",
    "     138520]\n",
    "]\n",
    "print(\"Transcription output - ASR:\\n\\n\", output_asr)"
   ]
  },
  {
   "cell_type": "markdown",
   "id": "fb105a7a-3a49-48e1-93a7-cef3faf0ff7d",
   "metadata": {},
   "source": [
    "- Get results from **NMT API**"
   ]
  },
  {
   "cell_type": "code",
   "execution_count": 4,
   "id": "abaf7c3f-ed75-4e48-aed2-a382acfc9f2f",
   "metadata": {},
   "outputs": [
    {
     "name": "stdout",
     "output_type": "stream",
     "text": [
      "Translation output - NMT:\n",
      "\n",
      " [['Ist Ihr Domainname derzeit bei einem anderen Registrar und Sie möchten ihn zu Ovh Cloud übertragen? Sie können dies über ein Transferverfahren tun.', 1080, 8040], ['Bevor Sie beginnen, sehen Sie sich die Liste der Voraussetzungen in der Beschreibung dieses Videos an.', 12320, 17240], ['Es hat perfekt funktioniert. Lass uns anfangen.', 18160, 20200], ['1. Es ist wichtig sicherzustellen, dass die Informationen, die mit dem Domainnamen verbunden sind, auf dem neuesten Stand sind. Wenn nicht, wenden Sie sich bitte an den aktuellen Domainnamen-Registrar und korrigieren Sie diese.', 21320, 31080], ['Der zweite Schritt besteht darin, den Domainnamen freizuschalten. Dieser Vorgang wird über den aktuellen Domainnamen-Registrar durchgeführt.', 33280, 39960], ['Wenn Sie nicht sicher sind, wie Sie diesen Schritt ausführen sollen, wenden Sie sich bitte an das Kundensupport-Team, um Unterstützung bei der Durchführung dieses Schritts zu erhalten.', 40800, 46680], ['Sobald Sie freigeschaltet sind, erhalten Sie einen Transfercode.', 49040, 51600], ['Dieser Code wird manchmal als verschiedene Namen bezeichnet, z. B. Transfer Code, Auth Code, Auth Information oder Epp Code.', 52600, 60240], ['Jetzt haben Sie diesen Code, Sie können beantragen, dass Ihr Domainname auf Ovh Cloud übertragen wird. Der Prozess ist einfach, Sie müssen ihn auf unserer Website bestellen. Das System erkennt, dass der Domainname existiert und bietet an, ihn zu übertragen. Nach den Validierungsschritten werden Sie aufgefordert, Ihren Transfercode anzugeben. Geben Sie diesen in das entsprechende Feld ein.', 61240, 80520], ['Sie erhalten dann eine Bestellung. Die Überweisung beginnt erst nach erfolgter Zahlung.', 81920, 86920], ['Von diesem Punkt an können Sie den Übertragungsfortschritt über das Ovh Cloud Control Panel verfolgen.', 87720, 92760], ['Um dies zu tun, können Sie zum Abschnitt Web Cloud gehen.', 93640, 96080], ['Klicken Sie auf den betreffenden Domainnamen und dann auf den laufenden Vorgang.', 96920, 100800], ['Sobald die Bestellung bezahlt wurde, erhält der Domainnamen-Registrar eine Validierungsanfrage. Der Transfer beginnt dann.', 101880, 108800], ['Die Operation kann durchschnittlich fünf Tage dauern.', 109840, 112240], ['Wenn eine Ablehnung vom Registrar ausgestellt wird, wenden Sie sich bitte an das Kundensupport-Team, um herauszufinden, warum.', 113080, 118800], ['Anschließend müssen Sie die Übertragungsanfrage aus dem Tracking-Bereich erneut starten.', 119640, 123000], ['Wenn der Vorgang reibungslos verläuft, wird Ihr Domainname nun über Ovh Cloud verwaltet und Sie können ihn über das Ovh Cloud Control Panel verwalten.', 124160, 131200], ['Und natürlich, wenn Sie mehr über das Thema in diesem Video erfahren möchten, lesen Sie bitte unsere Leitfäden in der Beschreibung.', 132000, 138520]]\n"
     ]
    }
   ],
   "source": [
    "# text translation\n",
    "output_nmt = translate(output_asr)\n",
    "print(\"Translation output - NMT:\\n\\n\", output_nmt)"
   ]
  }
 ],
 "metadata": {
  "kernelspec": {
   "display_name": "Conda",
   "language": "python",
   "name": "python3"
  },
  "language_info": {
   "codemirror_mode": {
    "name": "ipython",
    "version": 3
   },
   "file_extension": ".py",
   "mimetype": "text/x-python",
   "name": "python",
   "nbconvert_exporter": "python",
   "pygments_lexer": "ipython3",
   "version": "3.11.4"
  }
 },
 "nbformat": 4,
 "nbformat_minor": 5
}
