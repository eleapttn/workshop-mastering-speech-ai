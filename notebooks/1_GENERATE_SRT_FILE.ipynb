{
 "cells": [
  {
   "cell_type": "markdown",
   "id": "ffc8a3a7-200e-4599-81f4-e6209a7707e4",
   "metadata": {},
   "source": [
    "# Key Features of Speech AI\n",
    "\n",
    "*Focus on **Video Translator** key functions: generate SRT file, manage silences during translation, surimpose audio on video*\n",
    "\n",
    "## Instruction\n",
    "\n",
    "### 1 - Generate subtitles\n",
    "\n",
    "- Import dependencies"
   ]
  },
  {
   "cell_type": "code",
   "execution_count": null,
   "id": "cdae06de-ddff-4534-b454-fff1ff158c3f",
   "metadata": {},
   "outputs": [],
   "source": [
    "import os\n",
    "import requests\n",
    "from IPython.display import Audio"
   ]
  },
  {
   "cell_type": "markdown",
   "id": "9a182c98-7869-4f1a-af46-fd2ad544c146",
   "metadata": {},
   "source": [
    "- Transcribe audio into text using **ASR**"
   ]
  },
  {
   "cell_type": "code",
   "execution_count": null,
   "id": "a0fac52e-d1fd-40ae-b64c-d21349603de2",
   "metadata": {},
   "outputs": [],
   "source": [
    "# ASR function\n",
    "def transcribe_audio(audio_input):\n",
    "\n",
    "\n",
    "\n",
    "\n",
    "\n",
    "\n",
    "\n",
    "    \n",
    "    # Write your code here\n",
    "    \n",
    "    # To execute code cell, select the cell and then click the ▶️ button in the menu above the notebook. You can also select the cell and execute `SHIFT + ENTER`.\n",
    "    \n",
    "\n",
    "\n",
    "\n",
    "\n",
    "\n",
    "\n",
    "\n",
    "    # return response\n",
    "    return output_asr"
   ]
  },
  {
   "cell_type": "markdown",
   "id": "c1e53834-fa41-4874-9e79-1e804603ab4b",
   "metadata": {},
   "source": [
    "- Convert ms into timecode"
   ]
  },
  {
   "cell_type": "code",
   "execution_count": null,
   "id": "4171ea13-36e9-4daa-bce0-f3ead8d2e68a",
   "metadata": {},
   "outputs": [],
   "source": [
    "def ms_to_timecode(x):\n",
    "     \n",
    "    hour, x = divmod(x, 3600000)\n",
    "    minute, x = divmod(x, 60000)\n",
    "    second, x = divmod(x, 1000)\n",
    "    millisecond, x = divmod(x, 1)\n",
    "\n",
    "    return '%.2d:%.2d:%.2d,%.3d' % (hour, minute, second, millisecond)"
   ]
  },
  {
   "cell_type": "markdown",
   "id": "90c26cf6-6d3b-474e-9257-276ec17d53fb",
   "metadata": {},
   "source": [
    "- Create SRT file for video subtitles"
   ]
  },
  {
   "cell_type": "code",
   "execution_count": null,
   "id": "29ea2658-5ac2-4c7d-863b-bec7b35fe3e1",
   "metadata": {},
   "outputs": [],
   "source": [
    "# create SRT file with subtitles\n",
    "def generate_str_file(output_asr):\n",
    "    \n",
    "    lines = []\n",
    "    for t in range(len(output_asr)):\n",
    "        lines.append(\"%d\" % t)\n",
    "        lines.append(\n",
    "            \"%s --> %s\" %\n",
    "            (\n",
    "                ms_to_timecode(output_asr[t][1]),\n",
    "                ms_to_timecode(output_asr[t][2])\n",
    "            )\n",
    "        )\n",
    "        lines.append(output_asr[t][0])\n",
    "        lines.append('')\n",
    "    \n",
    "    return '\\n'.join(lines)"
   ]
  },
  {
   "cell_type": "markdown",
   "id": "af3fa0d3-d5ef-45a2-ab94-2ebb47bef5a8",
   "metadata": {},
   "source": [
    "- Play audio sample"
   ]
  },
  {
   "cell_type": "code",
   "execution_count": null,
   "id": "a8b739a4-5037-41bd-9322-9e4fb1d467fa",
   "metadata": {
    "scrolled": true
   },
   "outputs": [],
   "source": [
    "# Write your code here\n",
    "\n",
    "# To execute code cell, select the cell and then click the ▶️ button in the menu above the notebook. You can also select the cell and execute `SHIFT + ENTER`."
   ]
  },
  {
   "cell_type": "markdown",
   "id": "2e5a3dd3-6446-433e-b047-3d399af5bf86",
   "metadata": {},
   "source": [
    "- Get results from **ASR**"
   ]
  },
  {
   "cell_type": "code",
   "execution_count": null,
   "id": "ac449385-c077-4eb9-92b8-f6f28a15ca38",
   "metadata": {},
   "outputs": [],
   "source": [
    "# Write your code here\n",
    "\n",
    "# To execute code cell, select the cell and then click the ▶️ button in the menu above the notebook. You can also select the cell and execute `SHIFT + ENTER`."
   ]
  },
  {
   "cell_type": "markdown",
   "id": "900735d6-9833-46e2-9de3-98dbb60101e1",
   "metadata": {},
   "source": [
    "- Generate **SRT file**"
   ]
  },
  {
   "cell_type": "code",
   "execution_count": null,
   "id": "8787fffa-e2cb-41e8-a462-0e02a05655ab",
   "metadata": {},
   "outputs": [],
   "source": [
    "# Write your code here\n",
    "\n",
    "# To execute code cell, select the cell and then click the ▶️ button in the menu above the notebook. You can also select the cell and execute `SHIFT + ENTER`."
   ]
  }
 ],
 "metadata": {
  "kernelspec": {
   "display_name": "Conda",
   "language": "python",
   "name": "python3"
  },
  "language_info": {
   "codemirror_mode": {
    "name": "ipython",
    "version": 3
   },
   "file_extension": ".py",
   "mimetype": "text/x-python",
   "name": "python",
   "nbconvert_exporter": "python",
   "pygments_lexer": "ipython3",
   "version": "3.11.4"
  }
 },
 "nbformat": 4,
 "nbformat_minor": 5
}
