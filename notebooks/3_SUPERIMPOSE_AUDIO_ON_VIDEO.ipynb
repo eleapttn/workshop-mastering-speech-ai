{
 "cells": [
  {
   "cell_type": "markdown",
   "id": "ffc8a3a7-200e-4599-81f4-e6209a7707e4",
   "metadata": {},
   "source": [
    "# TTS & voice dubbing\n",
    "\n",
    "### *How to dub a video voice?*\n",
    "\n",
    "- Create a function that merges generated audio on video"
   ]
  },
  {
   "cell_type": "code",
   "execution_count": null,
   "id": "4171ea13-36e9-4daa-bce0-f3ead8d2e68a",
   "metadata": {},
   "outputs": [],
   "source": [
    "from moviepy.editor import *\n",
    "\n",
    "# voice dubbing in the new language\n",
    "def add_audio_on_video(translated_audio, video_title):\n",
    "    \n",
    "    source_video = f\"/workspace/ai-multimedia-translator/video_samples/{video_title}.mp4\"\n",
    "    \n",
    "    videoclip = VideoFileClip(source_video)\n",
    "    audioclip = AudioFileClip(translated_audio)\n",
    "\n",
    "    new_audioclip = CompositeAudioClip([audioclip])\n",
    "    new_videoclip = f\"/workspace/ai-multimedia-translator/outputs/{video_title}.mp4\"\n",
    "    \n",
    "    videoclip.audio = new_audioclip\n",
    "    videoclip.write_videofile(new_videoclip)\n",
    "    \n",
    "    return new_videoclip"
   ]
  },
  {
   "cell_type": "markdown",
   "id": "d31be32d-0bae-474a-a897-e866d627e399",
   "metadata": {},
   "source": [
    "- Get audio transcription from **TTS** model"
   ]
  },
  {
   "cell_type": "code",
   "execution_count": null,
   "id": "a6e1d9d7-1c5d-435d-8642-afb6d9f7cea3",
   "metadata": {},
   "outputs": [],
   "source": [
    "import os\n",
    "from dotenv import load_dotenv\n",
    "from pathlib import Path\n",
    "\n",
    "dotenv_path = Path('/workspace/.env')\n",
    "load_dotenv(dotenv_path=dotenv_path)\n",
    "\n",
    "# access the environment variables from the .env file\n",
    "tts_endpoint_url = os.environ.get('TTS_DE_DE_ENDPOINT')\n",
    "ai_endpoint_token = os.environ.get('OVH_AI_ENDPOINTS_ACCESS_TOKEN')"
   ]
  },
  {
   "cell_type": "code",
   "execution_count": null,
   "id": "a0fac52e-d1fd-40ae-b64c-d21349603de2",
   "metadata": {},
   "outputs": [],
   "source": [
    "import riva.client\n",
    "from pydub import AudioSegment\n",
    "\n",
    "# TTS function\n",
    "def tts_transcription(output_nmt, video_title, voice_type, target_lang):\n",
    "    \n",
    "    # connect with riva asr server\n",
    "    tts_service = riva.client.SpeechSynthesisService(\n",
    "                    riva.client.Auth(\n",
    "                        uri=tts_endpoint_url,\n",
    "                        use_ssl=True, \n",
    "                        metadata_args=[[\"authorization\", f\"bearer {ai_endpoint_token}\"]]\n",
    "                    )\n",
    "                )\n",
    "    \n",
    "    # set up tts config\n",
    "    sample_rate_hz = 16000\n",
    "    req = { \n",
    "            \"language_code\"  : f\"{target_lang}\",\n",
    "            \"encoding\"       : riva.client.AudioEncoding.LINEAR_PCM ,  \n",
    "            \"sample_rate_hz\" : sample_rate_hz,                       \n",
    "            \"voice_name\"     : f\"{voice_type}\"                        \n",
    "    }\n",
    "\n",
    "    output_audio = 0\n",
    "    output_audio_file = f\"/workspace/ai-multimedia-translator/outputs/{target_lang[:-3]}_{video_title}.wav\"\n",
    "    for i in range(len(output_nmt)):\n",
    "        \n",
    "        # add silence between audio sample\n",
    "        if i==0:\n",
    "            duration_silence = output_nmt[i][1]\n",
    "        else:\n",
    "            duration_silence = output_nmt[i][1] - output_nmt[i-1][2]\n",
    "        silent_segment = AudioSegment.silent(duration = duration_silence)\n",
    "        output_audio += silent_segment\n",
    "        \n",
    "        # create tts transcription\n",
    "        req[\"text\"] = output_nmt[i][0]\n",
    "        resp = tts_service.synthesize(**req)\n",
    "        sound_segment = AudioSegment(\n",
    "            resp.audio,\n",
    "            sample_width=2,\n",
    "            frame_rate=16000,\n",
    "            channels=1,\n",
    "        )\n",
    "        print(type(resp.audio))\n",
    "        output_audio += sound_segment\n",
    "    \n",
    "    # export new audio as wav file\n",
    "    output_audio.export(output_audio_file, format=\"wav\")\n",
    "    \n",
    "    # add new voice on video\n",
    "    voice_dubbing = add_audio_on_video(output_audio_file, video_title)\n",
    "    \n",
    "    return voice_dubbing"
   ]
  },
  {
   "cell_type": "markdown",
   "id": "edc9847e-f107-4736-8917-b5c8a9023e37",
   "metadata": {},
   "source": [
    "<img src=\"images/audio_silence_generation_riva.png\"  width=800 />"
   ]
  },
  {
   "cell_type": "markdown",
   "id": "96328a96-8839-421b-8510-bcc4f48dea31",
   "metadata": {},
   "source": [
    "- Play input video sample"
   ]
  },
  {
   "cell_type": "code",
   "execution_count": null,
   "id": "e9c8625d-aff4-4083-b43d-61e860907166",
   "metadata": {},
   "outputs": [],
   "source": [
    "from IPython.display import Video\n",
    "\n",
    "video_input = \"video_ovhcloud_en_1.mp4\"\n",
    "Video(f\"/workspace/ai-multimedia-translator/video_samples/{video_input}\", embed=True)"
   ]
  },
  {
   "cell_type": "markdown",
   "id": "2220e50d-515d-413b-8dd8-36ecab26197b",
   "metadata": {},
   "source": [
    "- Translation output from **RIVA NMT** model"
   ]
  },
  {
   "cell_type": "code",
   "execution_count": null,
   "id": "ac449385-c077-4eb9-92b8-f6f28a15ca38",
   "metadata": {},
   "outputs": [],
   "source": [
    "# text translation\n",
    "output_nmt = [\n",
    "    ['Ist Ihr Domainname derzeit bei einem anderen Registrar und Sie möchten ihn zu Ovh Cloud übertragen? Dies können Sie über ein Transferverfahren tun.', \n",
    "     1080, \n",
    "     8040], \n",
    "    ['Bevor Sie beginnen, sehen Sie sich die Liste der Voraussetzungen in der Beschreibung dieses Videos an.', \n",
    "     12320, \n",
    "     17240], \n",
    "    ['Es ist perfekt. Lass uns anfangen.', \n",
    "     18160, \n",
    "     20200], \n",
    "    ['1. Es ist wichtig, dass die mit dem Domainnamen verbundenen Informationen aktuell sind. \\\n",
    "    Falls nicht, kontaktieren Sie bitte den aktuellen Domainnamen-Registrar und korrigieren Sie diese.', \n",
    "     21320, \n",
    "     31080], \n",
    "    ['Der zweite Schritt ist die Entsperrung des Domainnamens. Dieser Vorgang wird durch den aktuellen Domainnamen-Registrar durchgeführt.', \n",
    "     33280, \n",
    "     39960], \n",
    "    ['Wenn Sie nicht sicher sind, wie Sie diesen Schritt ausführen sollen, wenden Sie sich bitte an das Kundensupport-Team, \\\n",
    "    um Unterstützung bei diesem Schritt zu erhalten.', \n",
    "     40800, \n",
    "     46680], \n",
    "    ['Sobald Sie freigeschaltet sind, erhalten Sie einen Transfercode.', \n",
    "     49040, \n",
    "     51600], \n",
    "    ['Dieser Code wird manchmal auch als verschiedene Namen bezeichnet, wie Transfer Code, Auth Code, Auth Information oder Epp Code.', \n",
    "     52600, \n",
    "     60240], \n",
    "    ['Wenn Sie diesen Code haben, können Sie die ⁇ bertragung Ihres Domainnamens auf Ovh Cloud beantragen. \\\n",
    "    Der Vorgang ist einfach: Sie müssen ihn auf unserer Website bestellen. Das System erkennt, dass der Domainname existiert, und bietet an, \\\n",
    "    ihn zu übertragen. Nach den Validierungsschritten werden Sie aufgefordert, Ihren Transfercode anzugeben. Geben Sie diesen in das entsprechende Feld ein.', \n",
    "     61240, \n",
    "     80520], \n",
    "    ['Sie erhalten dann eine Bestellung, die ⁇ berweisung beginnt erst, wenn die Zahlung erfolgt ist.', \n",
    "     81920, \n",
    "     86920], \n",
    "    ['Von diesem Punkt, Sie werden in der Lage sein, den Transfer Fortschritt über die Ovh Cloud Control Panel verfolgen.', \n",
    "     87720, \n",
    "     92760], \n",
    "    ['Um dies zu tun, können Sie den Abschnitt Web Cloud aufrufen.', \n",
    "     93640,\n",
    "     96080], \n",
    "    ['Klicken Sie auf den betreffenden Domainnamen und dann auf die laufende Operation.', \n",
    "     96920, \n",
    "     100800], \n",
    "    ['Sobald die Bestellung bezahlt wurde, erhält der Domainnamen-Registrar eine Validierungsanfrage, woraufhin der Transfer beginnt.', \n",
    "     101880, \n",
    "     108800], \n",
    "    ['Die Operation kann durchschnittlich fünf Tage dauern.', \n",
    "     109840, \n",
    "     112240], \n",
    "    ['Wenn der Registrar eine Ablehnung ausstellt, wenden Sie sich bitte an das Kundensupport-Team, um herauszufinden, warum.', \n",
    "     113080, \n",
    "     118800], \n",
    "    ['Sie müssen dann die ⁇ bertragungsanforderung aus dem Tracking Space neu starten.', \n",
    "     119640, \n",
    "     123000], \n",
    "    ['Wenn das Verfahren reibungslos verläuft, wird Ihr Domainname nun über Ovh Cloud verwaltet und Sie können ihn über das Ovh Cloud Control Panel verwalten.', \n",
    "     124160, \n",
    "     131200], \n",
    "    ['Und natürlich, wenn Sie mehr über das Thema in diesem Video erkunden möchten, lesen Sie bitte unsere Anleitungen in der Beschreibung.', \n",
    "     132000, \n",
    "     138520]\n",
    "]\n",
    "print(\"Translation output - RIVA NMT:\\n\\n\", output_nmt)"
   ]
  },
  {
   "cell_type": "markdown",
   "id": "a00401cc-bcbf-4a72-af1c-8ee789064736",
   "metadata": {},
   "source": [
    "- Get results from **RIVA TTS**"
   ]
  },
  {
   "cell_type": "code",
   "execution_count": null,
   "id": "a531e5cb-d6c9-49f3-9bcf-48a2003a4a16",
   "metadata": {},
   "outputs": [],
   "source": [
    "text_to_audio = tts_transcription(output_nmt, video_input[:-4], \"German-DE-Male-1\", \"de-DE\")\n",
    "text_to_audio"
   ]
  },
  {
   "cell_type": "markdown",
   "id": "d225e812-b87c-4cf8-ac9b-48bb02475305",
   "metadata": {},
   "source": [
    "- Play the resulting video"
   ]
  },
  {
   "cell_type": "code",
   "execution_count": null,
   "id": "145be075-4e03-4251-a769-f62a1ac7d577",
   "metadata": {},
   "outputs": [],
   "source": [
    "from IPython.display import Video\n",
    "\n",
    "Video(f\"/workspace/ai-multimedia-translator/outputs/{video_input}\", embed=True)"
   ]
  }
 ],
 "metadata": {
  "kernelspec": {
   "display_name": "Conda",
   "language": "python",
   "name": "python3"
  },
  "language_info": {
   "codemirror_mode": {
    "name": "ipython",
    "version": 3
   },
   "file_extension": ".py",
   "mimetype": "text/x-python",
   "name": "python",
   "nbconvert_exporter": "python",
   "pygments_lexer": "ipython3",
   "version": "3.11.4"
  }
 },
 "nbformat": 4,
 "nbformat_minor": 5
}
